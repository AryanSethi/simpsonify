{
 "cells": [
  {
   "cell_type": "code",
   "execution_count": 1,
   "metadata": {},
   "outputs": [
    {
     "name": "stdout",
     "output_type": "stream",
     "text": [
      "importing Jupyter notebook from Arch.ipynb\n"
     ]
    },
    {
     "name": "stderr",
     "output_type": "stream",
     "text": [
      "C:\\Users\\Aryan\\Anaconda3\\lib\\site-packages\\numpy\\_distributor_init.py:32: UserWarning: loaded more than 1 DLL from .libs:\n",
      "C:\\Users\\Aryan\\Anaconda3\\lib\\site-packages\\numpy\\.libs\\libopenblas.NOIJJG62EMASZI6NYURL6JBKM4EVBGM7.gfortran-win_amd64.dll\n",
      "C:\\Users\\Aryan\\Anaconda3\\lib\\site-packages\\numpy\\.libs\\libopenblas.QVLO2T66WEPI7JZ63PS3HMOHFEY472BC.gfortran-win_amd64.dll\n",
      "  stacklevel=1)\n"
     ]
    }
   ],
   "source": [
    "import import_ipynb\n",
    "from Arch import CGAN\n",
    "import tensorflow as tf\n",
    "import cv2\n",
    "from matplotlib import pyplot as plt"
   ]
  },
  {
   "cell_type": "code",
   "execution_count": 2,
   "metadata": {},
   "outputs": [],
   "source": [
    "disc_A = CGAN.discriminator(256)\n",
    "disc_B = CGAN.discriminator(256)\n",
    "gen_A = CGAN.generator(256, n_resnet=6)\n",
    "gen_B = CGAN.generator(256, n_resnet=6)\n",
    "comp_A = CGAN.composite_model(gen_A, disc_A, gen_B, 256)\n",
    "comp_B = CGAN.composite_model(gen_B, disc_B, gen_A, 256)"
   ]
  },
  {
   "cell_type": "code",
   "execution_count": 3,
   "metadata": {},
   "outputs": [],
   "source": [
    "data_S, data_H = CGAN.load_real_samples('ds')"
   ]
  },
  {
   "cell_type": "code",
   "execution_count": 4,
   "metadata": {},
   "outputs": [
    {
     "name": "stdout",
     "output_type": "stream",
     "text": [
      "[INFO] Patch_Size : 16\n",
      "[INFO] Starting epoch 0 of 20.....\n",
      "[INFO] Lenghts of used_images_s & used_images_h are : 0 & 0\n",
      "[INFO] Lenghts of pool_H & pool_S are : 0 & 0\n",
      "WARNING:tensorflow:5 out of the last 5 calls to <function Model.make_train_function.<locals>.train_function at 0x000001F499C2E7B8> triggered tf.function retracing. Tracing is expensive and the excessive number of tracings could be due to (1) creating @tf.function repeatedly in a loop, (2) passing tensors with different shapes, (3) passing Python objects instead of tensors. For (1), please define your @tf.function outside of the loop. For (2), @tf.function has experimental_relax_shapes=True option that relaxes argument shapes that can avoid unnecessary retracing. For (3), please refer to https://www.tensorflow.org/tutorials/customization/performance#python_or_tensor_args and https://www.tensorflow.org/api_docs/python/tf/function for  more details.\n",
      "WARNING:tensorflow:6 out of the last 6 calls to <function Model.make_train_function.<locals>.train_function at 0x000001F499C2E7B8> triggered tf.function retracing. Tracing is expensive and the excessive number of tracings could be due to (1) creating @tf.function repeatedly in a loop, (2) passing tensors with different shapes, (3) passing Python objects instead of tensors. For (1), please define your @tf.function outside of the loop. For (2), @tf.function has experimental_relax_shapes=True option that relaxes argument shapes that can avoid unnecessary retracing. For (3), please refer to https://www.tensorflow.org/tutorials/customization/performance#python_or_tensor_args and https://www.tensorflow.org/api_docs/python/tf/function for  more details.\n",
      "Losses :2087.7392578125 ; 0.9161404967308044 2.348501443862915 ; 2235.20849609375 ; 4.876655101776123 1.381359338760376\n",
      "[INFO] Ending Epoch 0 of 20\n",
      "\n",
      "[INFO] Starting epoch 1 of 20.....\n",
      "[INFO] Lenghts of used_images_s & used_images_h are : 0 & 0\n",
      "[INFO] Lenghts of pool_H & pool_S are : 0 & 0\n",
      "Losses :2877.68701171875 ; 1.9460525512695312 0.5887376070022583 ; 2993.8076171875 ; 1.3416836261749268 0.5382472276687622\n",
      "[INFO] Ending Epoch 1 of 20\n",
      "\n",
      "[INFO] Starting epoch 2 of 20.....\n",
      "[INFO] Lenghts of used_images_s & used_images_h are : 0 & 0\n",
      "[INFO] Lenghts of pool_H & pool_S are : 0 & 0\n",
      "Losses :3073.52587890625 ; 0.9194161891937256 0.27412286400794983 ; 3211.089599609375 ; 1.0335288047790527 0.37753307819366455\n",
      "[INFO] Ending Epoch 2 of 20\n",
      "\n",
      "[INFO] Starting epoch 3 of 20.....\n",
      "[INFO] Lenghts of used_images_s & used_images_h are : 0 & 0\n",
      "[INFO] Lenghts of pool_H & pool_S are : 0 & 0\n",
      "Losses :2947.9267578125 ; 0.3499431610107422 0.4259414076805115 ; 2861.816162109375 ; 0.3947164714336395 0.30305182933807373\n",
      "[INFO] Ending Epoch 3 of 20\n",
      "\n",
      "[INFO] Starting epoch 4 of 20.....\n",
      "[INFO] Lenghts of used_images_s & used_images_h are : 0 & 0\n",
      "[INFO] Lenghts of pool_H & pool_S are : 0 & 0\n",
      "Losses :1930.384765625 ; 0.36498335003852844 0.2407551407814026 ; 1940.886474609375 ; 0.4008871018886566 0.2758760452270508\n",
      "[INFO] Ending Epoch 4 of 20\n",
      "\n"
     ]
    }
   ],
   "source": [
    "CGAN.train(\n",
    "    disc_A,\n",
    "    disc_B,\n",
    "    gen_A,\n",
    "    gen_B,\n",
    "    comp_A,\n",
    "    comp_B,\n",
    "    data_S,\n",
    "    data_H)"
   ]
  },
  {
   "cell_type": "code",
   "execution_count": null,
   "metadata": {},
   "outputs": [],
   "source": []
  }
 ],
 "metadata": {
  "kernelspec": {
   "display_name": "Python 3",
   "language": "python",
   "name": "python3"
  },
  "language_info": {
   "codemirror_mode": {
    "name": "ipython",
    "version": 3
   },
   "file_extension": ".py",
   "mimetype": "text/x-python",
   "name": "python",
   "nbconvert_exporter": "python",
   "pygments_lexer": "ipython3",
   "version": "3.7.3"
  }
 },
 "nbformat": 4,
 "nbformat_minor": 4
}
